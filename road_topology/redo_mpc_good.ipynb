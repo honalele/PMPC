{
 "cells": [
  {
   "cell_type": "code",
   "execution_count": 2,
   "id": "applicable-huntington",
   "metadata": {},
   "outputs": [],
   "source": [
    "import carla\n",
    "import matplotlib.pyplot as plt\n",
    "import pandas as pd"
   ]
  },
  {
   "cell_type": "code",
   "execution_count": 3,
   "id": "favorite-concept",
   "metadata": {},
   "outputs": [
    {
     "name": "stdout",
     "output_type": "stream",
     "text": [
      "Map(name=Town04)\n"
     ]
    }
   ],
   "source": [
    "# Establish connection\n",
    "client = carla.Client('localhost', 2000)\n",
    "client.set_timeout(10.0) # seconds\n",
    "# Get the environment information\n",
    "world = client.get_world()\n",
    "# Get debugger\n",
    "debug = world.debug\n",
    "\n",
    "# Get road network\n",
    "ROADNETWORK_RES = 0.2 # [m]\n",
    "map = world.get_map()\n",
    "print(map)"
   ]
  },
  {
   "cell_type": "code",
   "execution_count": 12,
   "id": "substantial-moisture",
   "metadata": {},
   "outputs": [],
   "source": [
    "waypoint_list = map.generate_waypoints(ROADNETWORK_RES)\n",
    "id = []\n",
    "x = []\n",
    "y = []\n",
    "z = []\n",
    "start_node = []\n",
    "end_node = []"
   ]
  },
  {
   "cell_type": "code",
   "execution_count": 13,
   "id": "accomplished-buffalo",
   "metadata": {},
   "outputs": [
    {
     "name": "stdout",
     "output_type": "stream",
     "text": [
      "id:[13971534979188044492]\n",
      "\n",
      "End node [[1419447554142400183]]\n"
     ]
    }
   ],
   "source": [
    "i = 1\n",
    "for point in waypoint_list:\n",
    "    if i == 1:\n",
    "        # Get lane points\n",
    "        id.append(point.id)\n",
    "        x.append(point.transform.location.x)\n",
    "        y.append(point.transform.location.y)\n",
    "        z.append(point.transform.location.z)\n",
    "        debug.draw_point(location=point.transform.location)\n",
    "         # Get connections\n",
    "        start_node.append(point.id)\n",
    "        #print('id:{},x:{}, y:{}, z:{}\\n'.format(id,x,y,z))\n",
    "        print('id:{}\\n'.format(id))\n",
    "\n",
    "        nodes = []\n",
    "        for next_node in point.next(ROADNETWORK_RES):\n",
    "            nodes.append(next_node.id)\n",
    "            id.append(next_node.id)\n",
    "            x.append(next_node.transform.location.x)\n",
    "            y.append(next_node.transform.location.y)\n",
    "            z.append(next_node.transform.location.z)\n",
    "            debug.draw_point(location=point.transform.location, color=carla.Color(0, 255, 0))\n",
    "        end_node.append(nodes)\n",
    "        print('End node {}'.format(end_node))\n",
    "    i += 1"
   ]
  },
  {
   "cell_type": "code",
   "execution_count": 34,
   "id": "loose-capture",
   "metadata": {},
   "outputs": [
    {
     "data": {
      "text/html": [
       "<div>\n",
       "<style scoped>\n",
       "    .dataframe tbody tr th:only-of-type {\n",
       "        vertical-align: middle;\n",
       "    }\n",
       "\n",
       "    .dataframe tbody tr th {\n",
       "        vertical-align: top;\n",
       "    }\n",
       "\n",
       "    .dataframe thead th {\n",
       "        text-align: right;\n",
       "    }\n",
       "</style>\n",
       "<table border=\"1\" class=\"dataframe\">\n",
       "  <thead>\n",
       "    <tr style=\"text-align: right;\">\n",
       "      <th></th>\n",
       "      <th>start_id</th>\n",
       "      <th>end_id</th>\n",
       "    </tr>\n",
       "  </thead>\n",
       "  <tbody>\n",
       "    <tr>\n",
       "      <th>0</th>\n",
       "      <td>1.419448e+18</td>\n",
       "      <td>1.219061e+19</td>\n",
       "    </tr>\n",
       "    <tr>\n",
       "      <th>1</th>\n",
       "      <td>1.219061e+19</td>\n",
       "      <td>9.506871e+18</td>\n",
       "    </tr>\n",
       "    <tr>\n",
       "      <th>2</th>\n",
       "      <td>9.506871e+18</td>\n",
       "      <td>1.525711e+19</td>\n",
       "    </tr>\n",
       "    <tr>\n",
       "      <th>3</th>\n",
       "      <td>1.525711e+19</td>\n",
       "      <td>1.386707e+19</td>\n",
       "    </tr>\n",
       "    <tr>\n",
       "      <th>4</th>\n",
       "      <td>1.386707e+19</td>\n",
       "      <td>2.109068e+18</td>\n",
       "    </tr>\n",
       "  </tbody>\n",
       "</table>\n",
       "</div>"
      ],
      "text/plain": [
       "       start_id        end_id\n",
       "0  1.419448e+18  1.219061e+19\n",
       "1  1.219061e+19  9.506871e+18\n",
       "2  9.506871e+18  1.525711e+19\n",
       "3  1.525711e+19  1.386707e+19\n",
       "4  1.386707e+19  2.109068e+18"
      ]
     },
     "execution_count": 34,
     "metadata": {},
     "output_type": "execute_result"
    }
   ],
   "source": [
    "point_csv = '/home/hona/carla/PythonAPI/road_topology/points_carla.csv'\n",
    "node_csv = '/home/hona/carla/PythonAPI/road_topology/nodes_carla.csv'\n",
    "points_pd = pd.read_csv(point_csv,header=0)\n",
    "points_pd.columns = ['id', 'x', 'y', 'z']\n",
    "nodes_pd = pd.read_csv(node_csv,header=0)\n",
    "nodes_pd.columns = ['start_id', 'end_id']\n",
    "nodes_pd.head(5)"
   ]
  },
  {
   "cell_type": "code",
   "execution_count": 47,
   "id": "electronic-moderator",
   "metadata": {},
   "outputs": [],
   "source": [
    "def get_node(start_node, end_node, points):\n",
    "    n_point, _ = points.shape\n",
    "    start_node_location = []\n",
    "    end_node_location = []\n",
    "    print(type(start_node))\n",
    "    if start_node in points.iloc[:,0]:\n",
    "        print('start node found!')\n",
    "    print(points.iloc[:,0])\n",
    "    \"\"\"\n",
    "    for i in range(n_point):\n",
    "        if points.iloc[i,0] == start_node:\n",
    "            start_node_location.append(points.iloc[i,1])\n",
    "            start_node_location.append(points.iloc[i,2])\n",
    "        elif points.iloc[i,0] == end_node:\n",
    "            end_node_location.append(points.iloc[i,1])\n",
    "            end_node_location.append(points.iloc[i,2])\n",
    "            \"\"\"\n",
    "    return start_node_location, end_node_location\n",
    "            \n",
    "    "
   ]
  },
  {
   "cell_type": "code",
   "execution_count": 48,
   "id": "geological-waste",
   "metadata": {},
   "outputs": [
    {
     "name": "stdout",
     "output_type": "stream",
     "text": [
      "<class 'numpy.float64'>\n",
      "0          1419447554142400183\n",
      "1          1419447554142400183\n",
      "2         12190611398188152083\n",
      "3         12190611398188152083\n",
      "4          9506870680668800153\n",
      "                  ...         \n",
      "331946    15853819832516814866\n",
      "331947     6188495022120242207\n",
      "331948    10091512282931177094\n",
      "331949      966204857424204411\n",
      "331950     9114877372912526570\n",
      "Name: id, Length: 331951, dtype: uint64\n",
      "[]\n"
     ]
    }
   ],
   "source": [
    "#plt.scatter(points_pd['x'], points_pd['y'])\n",
    "start_node, end_node = get_node(nodes_pd.iloc[0,0], nodes_pd.iloc[0,1], points_pd)\n",
    "if len(start_node) > 1:\n",
    "    plt.scatter(start_node[0],start_node[1], c=\"red\")\n",
    "    plt.scatter(end_node[0],end_node[1], c=\"green\")\n",
    "else:\n",
    "    print(start_node)\n",
    "\n"
   ]
  },
  {
   "cell_type": "code",
   "execution_count": null,
   "id": "comparable-extent",
   "metadata": {},
   "outputs": [],
   "source": []
  }
 ],
 "metadata": {
  "kernelspec": {
   "display_name": "Python 3",
   "language": "python",
   "name": "python3"
  },
  "language_info": {
   "codemirror_mode": {
    "name": "ipython",
    "version": 3
   },
   "file_extension": ".py",
   "mimetype": "text/x-python",
   "name": "python",
   "nbconvert_exporter": "python",
   "pygments_lexer": "ipython3",
   "version": "3.6.12"
  }
 },
 "nbformat": 4,
 "nbformat_minor": 5
}
