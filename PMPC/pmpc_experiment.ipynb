{
 "cells": [
  {
   "cell_type": "markdown",
   "metadata": {},
   "source": [
    "# PMPC server-client procedure\n",
    "\n",
    "#### 1. Launch up server\n",
    "\n",
    "#### 2. Launch pmpc client\n",
    "\n",
    "#### 3. Setup scenario\n",
    "\n",
    "#### 4. Get map and visualization\n",
    "\n",
    "#### 5. Habituation driving\n",
    "\n",
    "#### 6. Manual-driving scenario 1-5, 4 times\n",
    "\n",
    "#### 7-1. MPC driving scenario 1-5\n",
    "#### 7-2. Subjective risk score collection\n",
    "\n",
    "#### 8-1. Subjective risk analysis\n",
    "#### 8-2. Cost function visualization\n",
    "\n",
    "#### 9-1. Personalized MPC driving scenario 1-5\n",
    "#### 9-2. Subjective risk score collection\n",
    "#### 9-3. Personalized driving data visualization\n",
    "##### R, Rd, Q, S, velocity, min_a, max_a, min_steer, max_steer, v_min_max\n",
    "\n",
    "\n",
    "#### 10-1. Personalized MPC driving scenario 1-5\n",
    "#### 10-2. Subjective risk score collection\n",
    "#### 10-3. Personalized driving data visualization\n",
    "##### R, Rd, Q, S, velocity, min_a, max_a, min_steer, max_steer, v_min_max\n",
    "\n"
   ]
  },
  {
   "cell_type": "code",
   "execution_count": 38,
   "metadata": {},
   "outputs": [
    {
     "name": "stdout",
     "output_type": "stream",
     "text": [
      "/opt/carla-simulator/bin\n"
     ]
    },
    {
     "name": "stderr",
     "output_type": "stream",
     "text": [
      "UsageError: Line magic function `%./CarlaUE4.sh` not found.\n"
     ]
    }
   ],
   "source": [
    "# 1. Launch up server\n",
    "%cd /opt/carla-simulator/bin\n",
    "%pwd\n",
    "%./CarlaUE4.sh -windowed -carla-server -benchmark -fps=20 -carla-world-port=2003\n",
    "\n",
    "# Select map is Town04 \n",
    "%cd ~/carla/PythonAPI/util\n",
    "%python config.py --map Town04 --port 2003"
   ]
  },
  {
   "cell_type": "code",
   "execution_count": null,
   "metadata": {},
   "outputs": [],
   "source": [
    "# 2. Launch pmpc client\n",
    "%~/carla/PythonAPI/PMPC/\n",
    "%python pmpc_client.py --participant naren --num_episodes 1 --num_scenario 1 --controller mpc\n",
    "\n",
    "# 2. Launch mpc\n",
    "%cd ~/carla/PythonAPI/PMPC\n",
    "%python pmpc_client_s1.py --participant naren --num_episodes 1 --num_scenario 1 --controller mpc"
   ]
  },
  {
   "cell_type": "code",
   "execution_count": 45,
   "metadata": {},
   "outputs": [],
   "source": [
    "# 3. Habituation driving\n",
    "# First drive 5 min in Town04\n",
    "\n",
    "# Take a break for 5 min\n",
    "\n",
    "# Second drive 20 min in Town04\n"
   ]
  },
  {
   "cell_type": "code",
   "execution_count": 1,
   "metadata": {},
   "outputs": [],
   "source": [
    "# 4-1. Drive scenario-1 \n",
    "%python scenario_runner.py \n",
    "%python scenario_runner.py --scenario FollowLeadingVehicle_1 --reloadWorld\n",
    "%python pmpc_client.py --participant naren --num_episodes 1 --num_scenario 1 --controller keyboard\n",
    "\n",
    "# 4-1. Drive scenario-2\n",
    "# 4-1. Drive scenario-3\n",
    "# 4-1. Drive scenario-4\n",
    "# 4-1. Drive scenario-5"
   ]
  },
  {
   "cell_type": "code",
   "execution_count": 2,
   "metadata": {},
   "outputs": [],
   "source": [
    "# 4-2. Drive scenario-1 \n",
    "# 4-2. Drive scenario-2\n",
    "# 4-2. Drive scenario-3\n",
    "# 4-2. Drive scenario-4\n",
    "# 4-2. Drive scenario-5\n"
   ]
  },
  {
   "cell_type": "code",
   "execution_count": 3,
   "metadata": {},
   "outputs": [],
   "source": [
    "# 4-3. Drive scenario-1 \n",
    "# 4-3. Drive scenario-2\n",
    "# 4-3. Drive scenario-3\n",
    "# 4-3. Drive scenario-4\n",
    "# 4-3. Drive scenario-5\n"
   ]
  },
  {
   "cell_type": "code",
   "execution_count": 4,
   "metadata": {},
   "outputs": [],
   "source": [
    "# 4-4. Drive scenario-1 \n",
    "# 4-4. Drive scenario-2\n",
    "# 4-4. Drive scenario-3\n",
    "# 4-4. Drive scenario-4\n",
    "# 4-4. Drive scenario-5\n"
   ]
  },
  {
   "cell_type": "code",
   "execution_count": null,
   "metadata": {},
   "outputs": [],
   "source": [
    "# 4-5. Drive scenario-1 \n",
    "# 4-5. Drive scenario-2\n",
    "# 4-5. Drive scenario-3\n",
    "# 4-5. Drive scenario-4\n",
    "# 4-5. Drive scenario-5\n"
   ]
  },
  {
   "cell_type": "code",
   "execution_count": 5,
   "metadata": {},
   "outputs": [],
   "source": [
    "#pyscical "
   ]
  },
  {
   "cell_type": "code",
   "execution_count": 28,
   "metadata": {
    "jupyter": {
     "source_hidden": true
    }
   },
   "outputs": [
    {
     "name": "stdout",
     "output_type": "stream",
     "text": [
      "Generation of mpc for scenario-1.\n",
      "\n",
      "Please report your risk level for this scenario-1\n",
      "\n",
      "Note:very safe = 1, safe = 2, neither safe nor risky = 3, risky = 4, very risky = 5\n",
      "\n",
      "Your subjective risk level for this scenario-1 is 0\n"
     ]
    }
   ],
   "source": [
    "#5-1. MPC generation of scenario-1\n",
    "scenario_no = 1\n",
    "print('Generation of mpc for scenario-{}.\\n'.format(scenario_no))\n",
    "\n",
    "print('Please report your risk level for this scenario-{}'.format(scenario_no))\n",
    "# default value = 0\n",
    "mpc_scenario_risk_level = 0 # Please change this value\n",
    "# very safe = 1, safe = 2, neither safe nor risky = 3, risky = 4, very risky = 5\n",
    "print('\\nNote:very safe = 1, safe = 2, neither safe nor risky = 3, risky = 4, very risky = 5\\n')\n",
    "print('Your subjective risk level for this scenario-{} is {}'.format(scenario_no, mpc_scenario_risk_level))\n",
    "assert mpc_scenario_risk_level == 0, 'subjective risk level not reported!'"
   ]
  },
  {
   "cell_type": "code",
   "execution_count": 29,
   "metadata": {},
   "outputs": [
    {
     "name": "stdout",
     "output_type": "stream",
     "text": [
      "Generation of mpc for scenario-2.\n",
      "\n",
      "Please report your risk level for this scenario-2\n",
      "\n",
      "Note:very safe = 1, safe = 2, neither safe nor risky = 3, risky = 4, very risky = 5\n",
      "\n",
      "Your subjective risk level for this scenario-2 is 0\n"
     ]
    }
   ],
   "source": [
    "#5-1. MPC generation of scenario-1\n",
    "scenario_no = 2\n",
    "print('Generation of mpc for scenario-{}.\\n'.format(scenario_no))\n",
    "\n",
    "print('Please report your risk level for this scenario-{}'.format(scenario_no))\n",
    "# default value = 0\n",
    "mpc_scenario_risk_level = 0 # Please change this value\n",
    "# very safe = 1, safe = 2, neither safe nor risky = 3, risky = 4, very risky = 5\n",
    "print('\\nNote:very safe = 1, safe = 2, neither safe nor risky = 3, risky = 4, very risky = 5\\n')\n",
    "print('Your subjective risk level for this scenario-{} is {}'.format(scenario_no, mpc_scenario_risk_level))\n",
    "assert mpc_scenario_risk_level == 0, 'subjective risk level not reported!'"
   ]
  },
  {
   "cell_type": "code",
   "execution_count": 30,
   "metadata": {},
   "outputs": [
    {
     "name": "stdout",
     "output_type": "stream",
     "text": [
      "Generation of mpc for scenario-3.\n",
      "\n",
      "Please report your risk level for this scenario-3\n",
      "\n",
      "Note:very safe = 1, safe = 2, neither safe nor risky = 3, risky = 4, very risky = 5\n",
      "\n",
      "Your subjective risk level for this scenario-3 is 0\n"
     ]
    }
   ],
   "source": [
    "#5-1. MPC generation of scenario-1\n",
    "scenario_no = 3\n",
    "print('Generation of mpc for scenario-{}.\\n'.format(scenario_no))\n",
    "\n",
    "print('Please report your risk level for this scenario-{}'.format(scenario_no))\n",
    "# default value = 0\n",
    "mpc_scenario_risk_level = 0 # Please change this value\n",
    "# very safe = 1, safe = 2, neither safe nor risky = 3, risky = 4, very risky = 5\n",
    "print('\\nNote:very safe = 1, safe = 2, neither safe nor risky = 3, risky = 4, very risky = 5\\n')\n",
    "print('Your subjective risk level for this scenario-{} is {}'.format(scenario_no, mpc_scenario_risk_level))\n",
    "assert mpc_scenario_risk_level == 0, 'subjective risk level not reported!'"
   ]
  },
  {
   "cell_type": "code",
   "execution_count": 31,
   "metadata": {},
   "outputs": [
    {
     "name": "stdout",
     "output_type": "stream",
     "text": [
      "Generation of mpc for scenario-4.\n",
      "\n",
      "Please report your risk level for this scenario-4\n",
      "\n",
      "Note:very safe = 1, safe = 2, neither safe nor risky = 3, risky = 4, very risky = 5\n",
      "\n",
      "Your subjective risk level for this scenario-4 is 0\n"
     ]
    }
   ],
   "source": [
    "#5-1. MPC generation of scenario-1\n",
    "scenario_no = 4\n",
    "print('Generation of mpc for scenario-{}.\\n'.format(scenario_no))\n",
    "\n",
    "print('Please report your risk level for this scenario-{}'.format(scenario_no))\n",
    "# default value = 0\n",
    "mpc_scenario_risk_level = 0 # Please change this value\n",
    "# very safe = 1, safe = 2, neither safe nor risky = 3, risky = 4, very risky = 5\n",
    "print('\\nNote:very safe = 1, safe = 2, neither safe nor risky = 3, risky = 4, very risky = 5\\n')\n",
    "print('Your subjective risk level for this scenario-{} is {}'.format(scenario_no, mpc_scenario_risk_level))\n",
    "assert mpc_scenario_risk_level == 0, 'subjective risk level not reported!'"
   ]
  },
  {
   "cell_type": "code",
   "execution_count": 32,
   "metadata": {},
   "outputs": [
    {
     "name": "stdout",
     "output_type": "stream",
     "text": [
      "Generation of mpc for scenario-5.\n",
      "\n",
      "Please report your risk level for this scenario-5\n",
      "\n",
      "Note:very safe = 1, safe = 2, neither safe nor risky = 3, risky = 4, very risky = 5\n",
      "\n",
      "Your subjective risk level for this scenario-5 is 0\n"
     ]
    }
   ],
   "source": [
    "#5-1. MPC generation of scenario-1\n",
    "scenario_no = 5\n",
    "print('Generation of mpc for scenario-{}.\\n'.format(scenario_no))\n",
    "\n",
    "print('Please report your risk level for this scenario-{}'.format(scenario_no))\n",
    "# default value = 0\n",
    "mpc_scenario_risk_level = 0 # Please change this value\n",
    "# very safe = 1, safe = 2, neither safe nor risky = 3, risky = 4, very risky = 5\n",
    "print('\\nNote:very safe = 1, safe = 2, neither safe nor risky = 3, risky = 4, very risky = 5\\n')\n",
    "print('Your subjective risk level for this scenario-{} is {}'.format(scenario_no, mpc_scenario_risk_level))\n",
    "assert mpc_scenario_risk_level == 0, 'subjective risk level not reported!'"
   ]
  },
  {
   "cell_type": "code",
   "execution_count": 24,
   "metadata": {},
   "outputs": [],
   "source": [
    "# Subjective risk analysis result for this driver and evaluator\n"
   ]
  },
  {
   "cell_type": "code",
   "execution_count": 26,
   "metadata": {},
   "outputs": [],
   "source": [
    "# Default setting of MPC parameters\n",
    "# R, Rd, Q, S, velocity, min_a, max_a, min_steer, max_steer, v_min_max"
   ]
  },
  {
   "cell_type": "code",
   "execution_count": 27,
   "metadata": {},
   "outputs": [],
   "source": [
    "# Personalized setting of MPC parameters\n",
    "# R, Rd, Q, S, velocity, min_a, max_a, min_steer, max_steer, v_min_max"
   ]
  },
  {
   "cell_type": "code",
   "execution_count": 33,
   "metadata": {},
   "outputs": [
    {
     "name": "stdout",
     "output_type": "stream",
     "text": [
      "Generation of personalized mpc for scenario-1.\n",
      "\n",
      "Please report your risk level for this scenario-1\n",
      "\n",
      "Note:very safe = 1, safe = 2, neither safe nor risky = 3, risky = 4, very risky = 5\n",
      "\n",
      "Your subjective risk level for this scenario-1 is 0\n"
     ]
    }
   ],
   "source": [
    "#5-1. MPC generation of scenario-1\n",
    "scenario_no = 1\n",
    "print('Generation of personalized mpc for scenario-{}.\\n'.format(scenario_no))\n",
    "\n",
    "print('Please report your risk level for this scenario-{}'.format(scenario_no))\n",
    "# default value = 0\n",
    "pmpc_scenario_risk_level = 0 # Please change this value\n",
    "# very safe = 1, safe = 2, neither safe nor risky = 3, risky = 4, very risky = 5\n",
    "print('\\nNote:very safe = 1, safe = 2, neither safe nor risky = 3, risky = 4, very risky = 5\\n')\n",
    "print('Your subjective risk level for this scenario-{} is {}'.format(scenario_no, pmpc_scenario_risk_level))\n",
    "assert pmpc_scenario_risk_level == 0, 'subjective risk level not reported!'"
   ]
  },
  {
   "cell_type": "code",
   "execution_count": 37,
   "metadata": {},
   "outputs": [
    {
     "name": "stdout",
     "output_type": "stream",
     "text": [
      "Generation of personalized mpc for scenario-2.\n",
      "\n",
      "Please report your risk level for this scenario-2\n",
      "\n",
      "Note:very safe = 1, safe = 2, neither safe nor risky = 3, risky = 4, very risky = 5\n",
      "\n",
      "Your subjective risk level for this scenario-2 is 0\n"
     ]
    }
   ],
   "source": [
    "#5-1. MPC generation of scenario-1\n",
    "scenario_no = 2\n",
    "print('Generation of personalized mpc for scenario-{}.\\n'.format(scenario_no))\n",
    "\n",
    "print('Please report your risk level for this scenario-{}'.format(scenario_no))\n",
    "# default value = 0\n",
    "pmpc_scenario_risk_level = 0 # Please change this value\n",
    "# very safe = 1, safe = 2, neither safe nor risky = 3, risky = 4, very risky = 5\n",
    "print('\\nNote:very safe = 1, safe = 2, neither safe nor risky = 3, risky = 4, very risky = 5\\n')\n",
    "print('Your subjective risk level for this scenario-{} is {}'.format(scenario_no, pmpc_scenario_risk_level))\n",
    "assert pmpc_scenario_risk_level == 0, 'subjective risk level not reported!'"
   ]
  },
  {
   "cell_type": "code",
   "execution_count": 36,
   "metadata": {},
   "outputs": [
    {
     "name": "stdout",
     "output_type": "stream",
     "text": [
      "Generation of personalized mpc for scenario-3.\n",
      "\n",
      "Please report your risk level for this scenario-3\n",
      "\n",
      "Note:very safe = 1, safe = 2, neither safe nor risky = 3, risky = 4, very risky = 5\n",
      "\n",
      "Your subjective risk level for this scenario-3 is 0\n"
     ]
    }
   ],
   "source": [
    "#5-1. MPC generation of scenario-1\n",
    "scenario_no = 3\n",
    "print('Generation of personalized mpc for scenario-{}.\\n'.format(scenario_no))\n",
    "\n",
    "print('Please report your risk level for this scenario-{}'.format(scenario_no))\n",
    "# default value = 0\n",
    "pmpc_scenario_risk_level = 0 # Please change this value\n",
    "# very safe = 1, safe = 2, neither safe nor risky = 3, risky = 4, very risky = 5\n",
    "print('\\nNote:very safe = 1, safe = 2, neither safe nor risky = 3, risky = 4, very risky = 5\\n')\n",
    "print('Your subjective risk level for this scenario-{} is {}'.format(scenario_no, pmpc_scenario_risk_level))\n",
    "assert pmpc_scenario_risk_level == 0, 'subjective risk level not reported!'"
   ]
  },
  {
   "cell_type": "code",
   "execution_count": 35,
   "metadata": {},
   "outputs": [
    {
     "name": "stdout",
     "output_type": "stream",
     "text": [
      "Generation of personalized mpc for scenario-4.\n",
      "\n",
      "Please report your risk level for this scenario-4\n",
      "\n",
      "Note:very safe = 1, safe = 2, neither safe nor risky = 3, risky = 4, very risky = 5\n",
      "\n",
      "Your subjective risk level for this scenario-4 is 0\n"
     ]
    }
   ],
   "source": [
    "#5-1. MPC generation of scenario-1\n",
    "scenario_no = 4\n",
    "print('Generation of personalized mpc for scenario-{}.\\n'.format(scenario_no))\n",
    "\n",
    "print('Please report your risk level for this scenario-{}'.format(scenario_no))\n",
    "# default value = 0\n",
    "pmpc_scenario_risk_level = 0 # Please change this value\n",
    "# very safe = 1, safe = 2, neither safe nor risky = 3, risky = 4, very risky = 5\n",
    "print('\\nNote:very safe = 1, safe = 2, neither safe nor risky = 3, risky = 4, very risky = 5\\n')\n",
    "print('Your subjective risk level for this scenario-{} is {}'.format(scenario_no, pmpc_scenario_risk_level))\n",
    "assert pmpc_scenario_risk_level == 0, 'subjective risk level not reported!'"
   ]
  },
  {
   "cell_type": "code",
   "execution_count": 34,
   "metadata": {},
   "outputs": [
    {
     "name": "stdout",
     "output_type": "stream",
     "text": [
      "Generation of personalized mpc for scenario-5.\n",
      "\n",
      "Please report your risk level for this scenario-5\n",
      "\n",
      "Note:very safe = 1, safe = 2, neither safe nor risky = 3, risky = 4, very risky = 5\n",
      "\n",
      "Your subjective risk level for this scenario-5 is 0\n"
     ]
    }
   ],
   "source": [
    "#5-1. MPC generation of scenario-1\n",
    "scenario_no = 5\n",
    "print('Generation of personalized mpc for scenario-{}.\\n'.format(scenario_no))\n",
    "\n",
    "print('Please report your risk level for this scenario-{}'.format(scenario_no))\n",
    "# default value = 0\n",
    "pmpc_scenario_risk_level = 0 # Please change this value\n",
    "# very safe = 1, safe = 2, neither safe nor risky = 3, risky = 4, very risky = 5\n",
    "print('\\nNote:very safe = 1, safe = 2, neither safe nor risky = 3, risky = 4, very risky = 5\\n')\n",
    "print('Your subjective risk level for this scenario-{} is {}'.format(scenario_no, pmpc_scenario_risk_level))\n",
    "assert pmpc_scenario_risk_level == 0, 'subjective risk level not reported!'"
   ]
  },
  {
   "cell_type": "code",
   "execution_count": null,
   "metadata": {},
   "outputs": [],
   "source": []
  }
 ],
 "metadata": {
  "kernelspec": {
   "display_name": "Python 3",
   "language": "python",
   "name": "python3"
  },
  "language_info": {
   "codemirror_mode": {
    "name": "ipython",
    "version": 3
   },
   "file_extension": ".py",
   "mimetype": "text/x-python",
   "name": "python",
   "nbconvert_exporter": "python",
   "pygments_lexer": "ipython3",
   "version": "3.7.8"
  }
 },
 "nbformat": 4,
 "nbformat_minor": 4
}
