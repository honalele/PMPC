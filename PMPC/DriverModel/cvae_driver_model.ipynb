{
 "cells": [
  {
   "cell_type": "markdown",
   "metadata": {},
   "source": [
    "# How to define Personalized driver models\n",
    "\n",
    "- **Personalized driver models** are learned from the data collected from the specific driver. For instance, the personalized model of driver \\#1 is learned using the driving data collected from driver \\#1.\n",
    "- **Average driver models** are learned using the data collected from other nine drivers."
   ]
  },
  {
   "cell_type": "code",
   "execution_count": 2,
   "metadata": {},
   "outputs": [],
   "source": [
    "# Driving style \n",
    "# PCA\n",
    "import pandas as pd\n",
    "import numpy as np\n",
    "import pickle\n",
    "import matplotlib.pyplot as plt\n",
    "import matplotlib.patches as patches\n",
    "import seaborn as sns\n",
    "%matplotlib inline\n",
    "\n",
    "TIME_VARIANTS = [3]\n",
    "def get_data(driver_i):\n",
    "    pickle_name = 'pickle/driver_data_' + str(TIME_VARIANTS[0]) + '.pkl'\n",
    "    with open(pickle_name, \"rb\") as f:\n",
    "        DATA = pickle.load(f)\n",
    "    \n",
    "    dynamic_drv = DATA[driver_i]['dynamic_drv']\n",
    "    surr_zone = DATA[driver_i]['surr_zones']\n",
    "    driver_id = DATA[driver_i]['driver_id']\n",
    "    \n",
    "    o = dynamic_drv.drop(\"velocity\", axis=1) # observed information\n",
    "    v = dynamic_drv.velocity # hidden variable: velocity\n",
    "    x_columns = dynamic_drv.columns\n",
    "        \n",
    "    return driver_id, dynamic_drv, surr_zone, o, v, x_columns\n"
   ]
  },
  {
   "cell_type": "code",
   "execution_count": 5,
   "metadata": {},
   "outputs": [
    {
     "name": "stdout",
     "output_type": "stream",
     "text": [
      "12352\n",
      "12352\n",
      "11239\n",
      "11239\n",
      "7554\n",
      "7554\n",
      "7575\n",
      "7571\n",
      "11646\n",
      "11646\n",
      "10768\n",
      "10768\n",
      "10934\n",
      "10934\n",
      "11840\n",
      "11838\n",
      "15278\n",
      "15278\n",
      "9350\n",
      "9350\n"
     ]
    },
    {
     "data": {
      "text/plain": [
       "<Figure size 1080x720 with 0 Axes>"
      ]
     },
     "metadata": {},
     "output_type": "display_data"
    }
   ],
   "source": [
    "import itertools\n",
    "\n",
    "from scipy import linalg\n",
    "import matplotlib.pyplot as plt\n",
    "import matplotlib as mpl\n",
    "\n",
    "from sklearn import mixture\n",
    "from sklearn.model_selection import train_test_split\n",
    "\n",
    "def driver_model_vae():\n",
    "    plt.figure(figsize=(15, 10))\n",
    "    for i_driver in range(10):\n",
    "        driver_id, dynamic_drv, surr_zone, o, velocity, x_columns = get_data(i_driver)\n",
    "        print(len(o))\n",
    "        print(len(surr_zone))\n",
    "        \n",
    "        \n",
    "driver_model_vae()\n",
    "         "
   ]
  },
  {
   "cell_type": "markdown",
   "metadata": {},
   "source": [
    "#### 3. Simulation\n",
    "- Lane change scenarios"
   ]
  },
  {
   "cell_type": "code",
   "execution_count": null,
   "metadata": {},
   "outputs": [],
   "source": [
    "gmm5= [14.646659083823453, 15.404403797825733, 9.653483429250576, 11.229009796558874, 12.126119618255698, 8.806966396290479, 13.012201020973853, 17.698201643430664, 14.019224156260467, 9.598311021815361]"
   ]
  },
  {
   "cell_type": "code",
   "execution_count": null,
   "metadata": {},
   "outputs": [],
   "source": []
  },
  {
   "cell_type": "code",
   "execution_count": null,
   "metadata": {},
   "outputs": [],
   "source": []
  },
  {
   "cell_type": "markdown",
   "metadata": {},
   "source": [
    "#### 4. Personalized data driven control\n",
    "1. Personalized MPC\n",
    "2. Risk adaptive control\n",
    "3. Data-driven control\n",
    "  - Training phase\n",
    "  - Inference phase\n"
   ]
  },
  {
   "cell_type": "markdown",
   "metadata": {},
   "source": [
    "#### 5.Experimental result\n",
    "- KL divergence\n",
    "- MSE\n",
    "- Interrupting time\n",
    "- Subjective risk evaluation"
   ]
  },
  {
   "cell_type": "code",
   "execution_count": null,
   "metadata": {},
   "outputs": [],
   "source": []
  },
  {
   "cell_type": "code",
   "execution_count": 144,
   "metadata": {},
   "outputs": [
    {
     "name": "stdout",
     "output_type": "stream",
     "text": [
      "(array([], dtype=float64), [])\n"
     ]
    },
    {
     "data": {
      "image/png": "[encoded data removed]",
      "text/plain": [
       "<Figure size 864x576 with 1 Axes>"
      ]
     },
     "metadata": {
      "needs_background": "light"
     },
     "output_type": "display_data"
    }
   ],
   "source": [
    "gmm5 = [14.646659083823453, 15.404403797825733, 9.653483429250576, 11.229009796558874, 12.126119618255698, 8.806966396290479, 13.012201020973853, 17.698201643430664, 14.019224156260467, 9.598311021815361]\n",
    "gmm7 = [14.77711253651537, 15.7606110071174, 9.809528691839157, 11.46399618763712, 11.68914429257308, 9.239177267709803, 12.848740596815745, 17.4794343270186, 13.873162997168574, 9.622553383435008]\n",
    "gmm9 = [10.626325216259287, 8.081849482607474, 7.473894650810207, 8.582976622193318, 8.504851372525048, 5.9205303252312, 9.111075841851997, 8.228119700514371, 10.395547048863449, 7.045034790832809]\n",
    "vae = [29.36996928423071, 45.94260680401793, 18.151828348841043, 21.670330131313293, 24.63292380938292, 19.010422420574777, 26.430226019813077, 51.83459378005133, 26.402662944260065, 17.74712687875769]\n",
    "cvae= [10.545253694096584, 8.167437699236263, 7.746229849459656, 8.748753531369287, 8.508049546648605, 5.879570445573125, 9.055804601200654, 8.169513593660735, 10.369184959433651, 7.010516066724594]\n",
    "\n",
    "\n",
    "data = [gmm5,gmm7,gmm9,vae,cvae]\n",
    "plt.figure(figsize=(12,8))\n",
    "sns.barplot(data=data)\n",
    "plt.ylabel('MAE of velocity prediction [km/h]')\n",
    "plt.rcParams[\"font.size\"] = 18\n",
    "plt.ylim([0,45])\n",
    "plt.xticks([])\n",
    "print(plt.xticks())\n",
    "plt.savefig('velocity_comparison.png')\n",
    "\n",
    "\n",
    "\n",
    "\n"
   ]
  },
  {
   "cell_type": "code",
   "execution_count": null,
   "metadata": {},
   "outputs": [],
   "source": []
  }
 ],
 "metadata": {
  "kernelspec": {
   "display_name": "Python 3",
   "language": "python",
   "name": "python3"
  },
  "language_info": {
   "codemirror_mode": {
    "name": "ipython",
    "version": 3
   },
   "file_extension": ".py",
   "mimetype": "text/x-python",
   "name": "python",
   "nbconvert_exporter": "python",
   "pygments_lexer": "ipython3",
   "version": "3.7.8"
  }
 },
 "nbformat": 4,
 "nbformat_minor": 4
}
