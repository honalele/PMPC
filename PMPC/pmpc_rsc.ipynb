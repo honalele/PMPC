{
 "cells": [
  {
   "cell_type": "code",
   "execution_count": null,
   "metadata": {},
   "outputs": [],
   "source": [
    "% pyenv activate carla_env\n",
    "%./CarlaUE4.sh \n",
    "\n",
    "% cd ~/carla/PythonAPI/util\n",
    "% python config.py --map Town04\n",
    "\n",
    "% cd ~/carla/PythonAPI/PMPC\n",
    "% python manual_control_pmpc.py --res 5000x1400\n"
   ]
  },
  {
   "cell_type": "code",
   "execution_count": null,
   "metadata": {},
   "outputs": [],
   "source": [
    "# read in driver data\n",
    "# extract personalized v, v_min, v_max, a, a_min, a\n",
    "\n",
    "def get_driver_style():\n",
    "    \n",
    "    "
   ]
  }
 ],
 "metadata": {
  "kernelspec": {
   "display_name": "Python 3",
   "language": "python",
   "name": "python3"
  },
  "language_info": {
   "codemirror_mode": {
    "name": "ipython",
    "version": 3
   },
   "file_extension": ".py",
   "mimetype": "text/x-python",
   "name": "python",
   "nbconvert_exporter": "python",
   "pygments_lexer": "ipython3",
   "version": "3.6.12"
  }
 },
 "nbformat": 4,
 "nbformat_minor": 4
}
