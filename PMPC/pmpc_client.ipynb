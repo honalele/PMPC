{
 "cells": [
  {
   "cell_type": "markdown",
   "metadata": {},
   "source": [
    "# PMPC server-client procedure\n",
    "\n",
    "#### 1. Launch up server\n",
    "\n",
    "#### 2. Launch pmpc client\n",
    "\n",
    "#### 3. Setup scenario\n",
    "\n",
    "#### 4. Get map and visualization\n",
    "\n",
    "#### 5. Design agent\n",
    "\n",
    "#### 6. Design and visualize cost function\n",
    "\n",
    "\n",
    "\n",
    "\n"
   ]
  },
  {
   "cell_type": "code",
   "execution_count": 4,
   "metadata": {},
   "outputs": [
    {
     "name": "stdout",
     "output_type": "stream",
     "text": [
      "/opt/carla-simulator/bin\n"
     ]
    },
    {
     "name": "stderr",
     "output_type": "stream",
     "text": [
      "UsageError: Line magic function `%./CarlaUE.sh` not found.\n"
     ]
    }
   ],
   "source": [
    "# 1. Launch up server\n",
    "%cd /opt/carla-simulator/bin\n",
    "%pwd\n",
    "%./CarlaUE4.sh -windowed -carla-server -benchmark -fps=20 -carla-world-port=2003\n",
    "\n",
    "# Select map is Town04 \n",
    "%cd ~/carla/PythonAPI/util\n",
    "%python config.py --map Town04 --port 2003"
   ]
  },
  {
   "cell_type": "code",
   "execution_count": null,
   "metadata": {},
   "outputs": [],
   "source": [
    "# 2. Launch pmpc client\n",
    "%~/carla/PythonAPI/PMPC/\n",
    "%python pmpc_client.py --participant naren --num_episodes 1 --num_scenario 1 --controller mpc\n",
    "\n",
    "# 2. Launch mpc\n",
    "%cd ~/carla/PythonAPI/PMPC\n",
    "%python pmpc_client_s1.py --participant naren --num_episodes 1 --num_scenario 1 --controller mpc"
   ]
  },
  {
   "cell_type": "code",
   "execution_count": null,
   "metadata": {},
   "outputs": [],
   "source": []
  }
 ],
 "metadata": {
  "kernelspec": {
   "display_name": "Python 3",
   "language": "python",
   "name": "python3"
  },
  "language_info": {
   "codemirror_mode": {
    "name": "ipython",
    "version": 3
   },
   "file_extension": ".py",
   "mimetype": "text/x-python",
   "name": "python",
   "nbconvert_exporter": "python",
   "pygments_lexer": "ipython3",
   "version": "3.7.8"
  }
 },
 "nbformat": 4,
 "nbformat_minor": 4
}
